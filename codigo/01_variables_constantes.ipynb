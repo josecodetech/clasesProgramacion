{
  "cells": [
    {
      "attachments": {},
      "cell_type": "markdown",
      "metadata": {
        "id": "gY_8Y7avibC-"
      },
      "source": [
        "# Variables y constantes"
      ]
    },
    {
      "cell_type": "code",
      "execution_count": 1,
      "metadata": {
        "id": "xhBzsgUXiXro"
      },
      "outputs": [],
      "source": [
        "#Constantes\n",
        "PI = 3.14159265\n",
        "DIAS_SEMANA = 7\n",
        "HORAS_DIAS = 24"
      ]
    },
    {
      "cell_type": "code",
      "execution_count": 2,
      "metadata": {
        "id": "-yQmG2NCjBEV"
      },
      "outputs": [],
      "source": [
        "#Variables\n",
        "x = 5\n",
        "y = 6\n",
        "numero1 = 2\n",
        "numero3 = 4\n",
        "nombre = 'Jose' \n",
        "z = True\n",
        "x = 10\n",
        "numero3 =90\n",
        "z = 'otro texto'\n"
      ]
    },
    {
      "cell_type": "code",
      "execution_count": 4,
      "metadata": {
        "colab": {
          "base_uri": "https://localhost:8080/"
        },
        "id": "7pyVOfYijg4u",
        "outputId": "3886e094-d99b-4efe-a0c0-0af6e2e68694"
      },
      "outputs": [
        {
          "data": {
            "text/plain": [
              "int"
            ]
          },
          "execution_count": 4,
          "metadata": {},
          "output_type": "execute_result"
        }
      ],
      "source": [
        "type(x)"
      ]
    },
    {
      "cell_type": "code",
      "execution_count": 6,
      "metadata": {
        "id": "syBcox4Jji0J"
      },
      "outputs": [],
      "source": [
        "#tipos de datos\n",
        "# enteros o int 5\n",
        "# decimales o float 3.23\n",
        "# cadenas de texto o str 'Jose'\n",
        "# boolean o bool True o False\n",
        "# listas o list [1,2,4,'hola']\n",
        "# tuplas (1,2,3,5,'Que tal')\n",
        "# diccionarios o dict {\"nombre\":\"Jose\",\"apellido\":\"Ojeda\",\"edad\":51}"
      ]
    },
    {
      "cell_type": "code",
      "execution_count": 13,
      "metadata": {
        "colab": {
          "base_uri": "https://localhost:8080/"
        },
        "id": "q16zxhvlk-Jo",
        "outputId": "76270e38-ff61-4204-c707-9d762273229d"
      },
      "outputs": [
        {
          "name": "stdout",
          "output_type": "stream",
          "text": [
            "Dime el primer numero: 1\n",
            "Dime el segundo numero: 2\n",
            "El resultado de 1 mas 2 es igual a 9.424777950000001\n"
          ]
        }
      ],
      "source": [
        "numero1 = int(input('Dime el primer numero: '))\n",
        "numero2 = int(input('Dime el segundo numero: '))\n",
        "resultado = numero1 + numero2 * PI\n",
        "print(f'El resultado de {numero1} mas {numero2} es igual a {resultado}')\n"
      ]
    }
  ],
  "metadata": {
    "colab": {
      "provenance": []
    },
    "kernelspec": {
      "display_name": "Python 3",
      "name": "python3"
    },
    "language_info": {
      "codemirror_mode": {
        "name": "ipython",
        "version": 3
      },
      "file_extension": ".py",
      "mimetype": "text/x-python",
      "name": "python",
      "nbconvert_exporter": "python",
      "pygments_lexer": "ipython3",
      "version": "3.9.12"
    }
  },
  "nbformat": 4,
  "nbformat_minor": 0
}
